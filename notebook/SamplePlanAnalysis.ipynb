{
 "cells": [
  {
   "cell_type": "code",
   "execution_count": 76,
   "metadata": {},
   "outputs": [],
   "source": [
    "import pandas as pd"
   ]
  },
  {
   "cell_type": "code",
   "execution_count": 77,
   "metadata": {},
   "outputs": [],
   "source": [
    "df = pd.read_excel('../data_input/datasource.xlsx',sheet_name=0)"
   ]
  },
  {
   "cell_type": "code",
   "execution_count": 78,
   "metadata": {},
   "outputs": [],
   "source": [
    "df_sample_plan = pd.read_excel('../data_input/Sampling Plan information.xlsx')"
   ]
  },
  {
   "cell_type": "code",
   "execution_count": 79,
   "metadata": {},
   "outputs": [],
   "source": [
    "df_sample_plan.rename(columns={'Lot Size (from)':'Min','Lot Size (to)':'Max'},inplace=True)"
   ]
  },
  {
   "cell_type": "code",
   "execution_count": 80,
   "metadata": {},
   "outputs": [],
   "source": [
    "df_sample_plan.loc[df_sample_plan.groupby(['Sampling Plan ID'])['Max'].idxmax(), 'Max'] = 99999999"
   ]
  },
  {
   "cell_type": "code",
   "execution_count": 81,
   "metadata": {},
   "outputs": [],
   "source": [
    "df_normal = pd.read_excel('../data_input/datasource.xlsx',sheet_name=1)\n",
    "df_reduce = pd.read_excel('../data_input/datasource.xlsx',sheet_name=2)"
   ]
  },
  {
   "cell_type": "code",
   "execution_count": 82,
   "metadata": {},
   "outputs": [],
   "source": [
    "df_normal_Functional = df_normal.loc[df_normal['Criteria Type'] == 'Functional',['PIC','Sampling Plan ID']]\n",
    "df_normal_Dimensional = df_normal.loc[df_normal['Criteria Type'] == 'Dimensional',['PIC','Sampling Plan ID']]\n",
    "df_normal_Visual = df_normal.loc[df_normal['Criteria Type'] == 'Visual',['PIC','Sampling Plan ID']]"
   ]
  },
  {
   "cell_type": "code",
   "execution_count": 83,
   "metadata": {},
   "outputs": [],
   "source": [
    "df_reduce_Functional = df_reduce.loc[df_reduce['Criteria Type'] == 'Functional',['PIC','Sampling Plan ID']]\n",
    "df_reduce_Dimensional = df_reduce.loc[df_reduce['Criteria Type'] == 'Dimensional',['PIC','Sampling Plan ID']]\n",
    "df_reduce_Visual = df_reduce.loc[df_reduce['Criteria Type'] == 'Visual',['PIC','Sampling Plan ID']]"
   ]
  },
  {
   "cell_type": "code",
   "execution_count": 84,
   "metadata": {},
   "outputs": [
    {
     "data": {
      "text/html": [
       "<div>\n",
       "<style scoped>\n",
       "    .dataframe tbody tr th:only-of-type {\n",
       "        vertical-align: middle;\n",
       "    }\n",
       "\n",
       "    .dataframe tbody tr th {\n",
       "        vertical-align: top;\n",
       "    }\n",
       "\n",
       "    .dataframe thead th {\n",
       "        text-align: right;\n",
       "    }\n",
       "</style>\n",
       "<table border=\"1\" class=\"dataframe\">\n",
       "  <thead>\n",
       "    <tr style=\"text-align: right;\">\n",
       "      <th></th>\n",
       "      <th>PIC</th>\n",
       "      <th>Sampling Plan ID</th>\n",
       "    </tr>\n",
       "  </thead>\n",
       "  <tbody>\n",
       "    <tr>\n",
       "      <th>1</th>\n",
       "      <td>PIC-00001</td>\n",
       "      <td>188</td>\n",
       "    </tr>\n",
       "    <tr>\n",
       "      <th>2</th>\n",
       "      <td>PIC-00001</td>\n",
       "      <td>461</td>\n",
       "    </tr>\n",
       "    <tr>\n",
       "      <th>3</th>\n",
       "      <td>PIC-00001</td>\n",
       "      <td>189</td>\n",
       "    </tr>\n",
       "    <tr>\n",
       "      <th>4</th>\n",
       "      <td>PIC-00001</td>\n",
       "      <td>229</td>\n",
       "    </tr>\n",
       "    <tr>\n",
       "      <th>7</th>\n",
       "      <td>PIC-00002</td>\n",
       "      <td>189</td>\n",
       "    </tr>\n",
       "    <tr>\n",
       "      <th>...</th>\n",
       "      <td>...</td>\n",
       "      <td>...</td>\n",
       "    </tr>\n",
       "    <tr>\n",
       "      <th>653</th>\n",
       "      <td>Qual-99963</td>\n",
       "      <td>229</td>\n",
       "    </tr>\n",
       "    <tr>\n",
       "      <th>654</th>\n",
       "      <td>Qual-99963</td>\n",
       "      <td>241</td>\n",
       "    </tr>\n",
       "    <tr>\n",
       "      <th>655</th>\n",
       "      <td>Qual-99963</td>\n",
       "      <td>539</td>\n",
       "    </tr>\n",
       "    <tr>\n",
       "      <th>656</th>\n",
       "      <td>Qual-99963</td>\n",
       "      <td>267</td>\n",
       "    </tr>\n",
       "    <tr>\n",
       "      <th>657</th>\n",
       "      <td>Qual-99963</td>\n",
       "      <td>547</td>\n",
       "    </tr>\n",
       "  </tbody>\n",
       "</table>\n",
       "<p>457 rows × 2 columns</p>\n",
       "</div>"
      ],
      "text/plain": [
       "            PIC  Sampling Plan ID\n",
       "1     PIC-00001               188\n",
       "2     PIC-00001               461\n",
       "3     PIC-00001               189\n",
       "4     PIC-00001               229\n",
       "7     PIC-00002               189\n",
       "..          ...               ...\n",
       "653  Qual-99963               229\n",
       "654  Qual-99963               241\n",
       "655  Qual-99963               539\n",
       "656  Qual-99963               267\n",
       "657  Qual-99963               547\n",
       "\n",
       "[457 rows x 2 columns]"
      ]
     },
     "execution_count": 84,
     "metadata": {},
     "output_type": "execute_result"
    }
   ],
   "source": [
    "df_reduce_Visual"
   ]
  },
  {
   "cell_type": "code",
   "execution_count": 85,
   "metadata": {},
   "outputs": [],
   "source": [
    "def get_sample_size(row, df):\n",
    "    # 在第三个数据框中查询符合条件的Sample Size\n",
    "    sample_sizes = df[(df['Sampling Plan ID'] == row['Sampling Plan ID']) & \n",
    "                       (df['Min'] <= row['Qty EA']) & \n",
    "                       (df['Max'] >= row['Qty EA'])]['Sample Size']\n",
    "    # 如果找到符合条件的Sample Size，则返回最大值\n",
    "    return sample_sizes.max() if not sample_sizes.empty else None\n"
   ]
  },
  {
   "cell_type": "code",
   "execution_count": 98,
   "metadata": {},
   "outputs": [],
   "source": [
    "# df_base = (\n",
    "#     df\n",
    "# .assign(**{\"Inspection Date\" : lambda d : pd.to_datetime(d['Inspection Date'])})\n",
    "# .assign(key=lambda d: d.apply(lambda s:   \n",
    "#                             s['ID'] if s['Path'] == 'QIM'   \n",
    "#                             else '|'.join([str(s['Lot Number']),   \n",
    "#                                            s['Inspection Date'].date().strftime('%Y-%m-%d'),   \n",
    "#                                            str(s['Inspector']),   \n",
    "#                                            str(s['Item Number'])]),   \n",
    "#                           axis=1)\n",
    "#         )\n",
    "# .query('PIC != \"Missing in ETQ\"')\n",
    "# .groupby(['key','PIC'],as_index=False)['Qty EA'].sum()\n",
    "# )"
   ]
  },
  {
   "cell_type": "code",
   "execution_count": 96,
   "metadata": {},
   "outputs": [],
   "source": [
    "df_base = (\n",
    "    df\n",
    "    .assign(key=lambda d: d.apply(lambda s: f\"{s['Lot Number']}|{s['Inspection Date'].date()}|{s['Inspector']}|{s['Item Number']}\" \n",
    "                                    if s['Path'] != 'QIM' \n",
    "                                    else s['ID'], axis=1))\n",
    "    .query('PIC != \"Missing in ETQ\"')\n",
    "    .groupby(['key', 'PIC'], as_index=False)['Qty EA'].sum()\n",
    ")"
   ]
  },
  {
   "cell_type": "code",
   "execution_count": 94,
   "metadata": {},
   "outputs": [],
   "source": [
    "df_base.to_excel('base.xlsx')"
   ]
  },
  {
   "cell_type": "code",
   "execution_count": 67,
   "metadata": {},
   "outputs": [
    {
     "name": "stderr",
     "output_type": "stream",
     "text": [
      "C:\\Users\\ypeng\\AppData\\Local\\Temp\\ipykernel_12024\\2639328354.py:7: FutureWarning: Dropping of nuisance columns in DataFrame reductions (with 'numeric_only=None') is deprecated; in a future version this will raise TypeError.  Select only valid columns before calling the reduction.\n",
      "  df_sample_size_normal_Functional.sum()\n"
     ]
    },
    {
     "data": {
      "text/plain": [
       "PIC                              PIC-00035PIC-00035PIC-00035PIC-00035PIC-00035P...\n",
       "Qty EA                                                                6517335215.0\n",
       "Sampling Plan ID                                                         1584147.0\n",
       "normal_Functional Sample Size                                             202089.0\n",
       "dtype: object"
      ]
     },
     "execution_count": 67,
     "metadata": {},
     "output_type": "execute_result"
    }
   ],
   "source": [
    "df_sample_size_normal_Functional = (\n",
    "    df_base\n",
    "    .pipe(lambda d : pd.merge(d,df_normal_Functional,on='PIC',how='left'))\n",
    "    .assign(**{\"normal_Functional Sample Size\" : lambda d : d.apply(get_sample_size, axis=1, df=df_sample_plan)})\n",
    "    .sort_values('normal_Functional Sample Size', ascending=False).drop_duplicates('key')\n",
    ")\n",
    "df_sample_size_normal_Functional.sum()"
   ]
  },
  {
   "cell_type": "code",
   "execution_count": 68,
   "metadata": {},
   "outputs": [
    {
     "name": "stderr",
     "output_type": "stream",
     "text": [
      "C:\\Users\\ypeng\\AppData\\Local\\Temp\\ipykernel_12024\\2333508455.py:7: FutureWarning: Dropping of nuisance columns in DataFrame reductions (with 'numeric_only=None') is deprecated; in a future version this will raise TypeError.  Select only valid columns before calling the reduction.\n",
      "  df_sample_size_normal_Dimensional.sum()\n"
     ]
    },
    {
     "data": {
      "text/plain": [
       "PIC                               PIC-00418PIC-00418PIC-00418PIC-00418PIC-00418P...\n",
       "Qty EA                                                                 6517335215.0\n",
       "Sampling Plan ID                                                          1440642.0\n",
       "normal_Dimensional Sample Size                                             235002.0\n",
       "dtype: object"
      ]
     },
     "execution_count": 68,
     "metadata": {},
     "output_type": "execute_result"
    }
   ],
   "source": [
    "df_sample_size_normal_Dimensional = (\n",
    "    df_base\n",
    "    .pipe(lambda d : pd.merge(d,df_normal_Dimensional,on='PIC',how='left'))\n",
    "    .assign(**{\"normal_Dimensional Sample Size\" : lambda d : d.apply(get_sample_size, axis=1, df=df_sample_plan)})\n",
    "    .sort_values('normal_Dimensional Sample Size', ascending=False).drop_duplicates('key')\n",
    ")\n",
    "df_sample_size_normal_Dimensional.sum()"
   ]
  },
  {
   "cell_type": "code",
   "execution_count": 69,
   "metadata": {},
   "outputs": [
    {
     "name": "stderr",
     "output_type": "stream",
     "text": [
      "C:\\Users\\ypeng\\AppData\\Local\\Temp\\ipykernel_12024\\36782525.py:7: FutureWarning: Dropping of nuisance columns in DataFrame reductions (with 'numeric_only=None') is deprecated; in a future version this will raise TypeError.  Select only valid columns before calling the reduction.\n",
      "  df_sample_size_normal_Visual.sum()\n"
     ]
    },
    {
     "data": {
      "text/plain": [
       "PIC                          PIC-00058PIC-00058PIC-00058PIC-00058PIC-00058P...\n",
       "Qty EA                                                            6517335215.0\n",
       "Sampling Plan ID                                                     1786566.0\n",
       "normal_Visual Sample Size                                            1903730.0\n",
       "dtype: object"
      ]
     },
     "execution_count": 69,
     "metadata": {},
     "output_type": "execute_result"
    }
   ],
   "source": [
    "df_sample_size_normal_Visual = (\n",
    "    df_base\n",
    "    .pipe(lambda d : pd.merge(d,df_normal_Visual,on='PIC',how='left'))\n",
    "    .assign(**{\"normal_Visual Sample Size\" : lambda d : d.apply(get_sample_size, axis=1, df=df_sample_plan)})\n",
    "    .sort_values('normal_Visual Sample Size', ascending=False).drop_duplicates('key')\n",
    ")\n",
    "df_sample_size_normal_Visual.sum()"
   ]
  },
  {
   "cell_type": "code",
   "execution_count": 70,
   "metadata": {},
   "outputs": [
    {
     "name": "stderr",
     "output_type": "stream",
     "text": [
      "C:\\Users\\ypeng\\AppData\\Local\\Temp\\ipykernel_12024\\2526576968.py:7: FutureWarning: Dropping of nuisance columns in DataFrame reductions (with 'numeric_only=None') is deprecated; in a future version this will raise TypeError.  Select only valid columns before calling the reduction.\n",
      "  df_sample_size_reduce_Functional.sum()\n"
     ]
    },
    {
     "data": {
      "text/plain": [
       "PIC                              PIC-00035PIC-00035PIC-00035PIC-00035PIC-00035P...\n",
       "Qty EA                                                                6517335215.0\n",
       "Sampling Plan ID                                                         3847641.0\n",
       "reduce_Functional Sample Size                                              79454.0\n",
       "dtype: object"
      ]
     },
     "execution_count": 70,
     "metadata": {},
     "output_type": "execute_result"
    }
   ],
   "source": [
    "df_sample_size_reduce_Functional = (\n",
    "    df_base\n",
    "    .pipe(lambda d : pd.merge(d,df_reduce_Functional,on='PIC',how='left'))\n",
    "    .assign(**{\"reduce_Functional Sample Size\" : lambda d : d.apply(get_sample_size, axis=1, df=df_sample_plan)})\n",
    "    .sort_values('reduce_Functional Sample Size', ascending=False).drop_duplicates('key')\n",
    ")\n",
    "df_sample_size_reduce_Functional.sum()"
   ]
  },
  {
   "cell_type": "code",
   "execution_count": 71,
   "metadata": {},
   "outputs": [
    {
     "name": "stderr",
     "output_type": "stream",
     "text": [
      "C:\\Users\\ypeng\\AppData\\Local\\Temp\\ipykernel_12024\\2339830204.py:7: FutureWarning: Dropping of nuisance columns in DataFrame reductions (with 'numeric_only=None') is deprecated; in a future version this will raise TypeError.  Select only valid columns before calling the reduction.\n",
      "  df_sample_size_reduce_Dimensional.sum()\n"
     ]
    },
    {
     "data": {
      "text/plain": [
       "PIC                               PIC-00418PIC-00418PIC-00418PIC-00413PIC-00418P...\n",
       "Qty EA                                                                 6517335215.0\n",
       "Sampling Plan ID                                                          4312348.0\n",
       "reduce_Dimensional Sample Size                                              91752.0\n",
       "dtype: object"
      ]
     },
     "execution_count": 71,
     "metadata": {},
     "output_type": "execute_result"
    }
   ],
   "source": [
    "df_sample_size_reduce_Dimensional = (\n",
    "    df_base\n",
    "    .pipe(lambda d : pd.merge(d,df_reduce_Dimensional,on='PIC',how='left'))\n",
    "    .assign(**{\"reduce_Dimensional Sample Size\" : lambda d : d.apply(get_sample_size, axis=1, df=df_sample_plan)})\n",
    "    .sort_values('reduce_Dimensional Sample Size', ascending=False).drop_duplicates('key')\n",
    ")\n",
    "df_sample_size_reduce_Dimensional.sum()"
   ]
  },
  {
   "cell_type": "code",
   "execution_count": 72,
   "metadata": {},
   "outputs": [
    {
     "name": "stderr",
     "output_type": "stream",
     "text": [
      "C:\\Users\\ypeng\\AppData\\Local\\Temp\\ipykernel_12024\\558336742.py:7: FutureWarning: Dropping of nuisance columns in DataFrame reductions (with 'numeric_only=None') is deprecated; in a future version this will raise TypeError.  Select only valid columns before calling the reduction.\n",
      "  df_sample_size_reduce_Visual.sum()\n"
     ]
    },
    {
     "data": {
      "text/plain": [
       "PIC                          PIC-00058PIC-00058PIC-00058PIC-00058PIC-00058P...\n",
       "Qty EA                                                            6517335215.0\n",
       "Sampling Plan ID                                                     4860663.0\n",
       "reduce_Visual Sample Size                                             761486.0\n",
       "dtype: object"
      ]
     },
     "execution_count": 72,
     "metadata": {},
     "output_type": "execute_result"
    }
   ],
   "source": [
    "df_sample_size_reduce_Visual = (\n",
    "    df_base\n",
    "    .pipe(lambda d : pd.merge(d,df_reduce_Visual,on='PIC',how='left'))\n",
    "    .assign(**{\"reduce_Visual Sample Size\" : lambda d : d.apply(get_sample_size, axis=1, df=df_sample_plan)})\n",
    "    .sort_values('reduce_Visual Sample Size', ascending=False).drop_duplicates('key')\n",
    ")\n",
    "df_sample_size_reduce_Visual.sum()"
   ]
  },
  {
   "cell_type": "code",
   "execution_count": 73,
   "metadata": {},
   "outputs": [],
   "source": [
    "df_sample_size_normal_Functional = df_sample_size_normal_Functional.iloc[:,[0,4]]\n",
    "df_sample_size_normal_Dimensional = df_sample_size_normal_Dimensional.iloc[:,[0,4]]\n",
    "df_sample_size_normal_Visual = df_sample_size_normal_Visual.iloc[:,[0,4]]\n",
    "df_sample_size_reduce_Functional = df_sample_size_reduce_Functional.iloc[:,[0,4]]\n",
    "df_sample_size_reduce_Dimensional = df_sample_size_reduce_Dimensional.iloc[:,[0,4]]\n",
    "df_sample_size_reduce_Visual = df_sample_size_reduce_Visual.iloc[:,[0,4]]\n"
   ]
  },
  {
   "cell_type": "code",
   "execution_count": null,
   "metadata": {},
   "outputs": [],
   "source": [
    "(\n",
    "df_base\n",
    ".merge(df_sample_size_normal_Functional,on='key',how='left')\n",
    ".merge(df_sample_size_normal_Dimensional,on='key',how='left')\n",
    ".merge(df_sample_size_normal_Visual,on='key',how='left')\n",
    ".merge(df_sample_size_reduce_Functional,on='key',how='left')\n",
    ".merge(df_sample_size_reduce_Dimensional,on='key',how='left')\n",
    ".merge(df_sample_size_reduce_Visual,on='key',how='left')\n",
    ".to_excel('./out_final.xlsx')\n",
    ")"
   ]
  },
  {
   "cell_type": "code",
   "execution_count": null,
   "metadata": {},
   "outputs": [],
   "source": []
  },
  {
   "cell_type": "code",
   "execution_count": 125,
   "metadata": {},
   "outputs": [],
   "source": [
    "import pandas as pd\n",
    "from functools import reduce\n",
    "\n",
    "# 从datasource.xlsx读取指定的sheet\n",
    "xls_datasource = pd.ExcelFile('../data_input/datasource.xlsx')\n",
    "df = xls_datasource.parse(0)  # 基础数据DataFrame\n",
    "df_normal = xls_datasource.parse(1)  # 正常检验标准DataFrame\n",
    "df_reduce = xls_datasource.parse(2)  # 缩减检验标准DataFrame\n",
    "\n",
    "# 从Sampling Plan information.xlsx读取特定的sheet\n",
    "df_sample_plan = pd.read_excel('../data_input/Sampling Plan information.xlsx')\n",
    "\n",
    "# 重命名列并调整Sampling Plan信息\n",
    "df_sample_plan.rename(columns={'Lot Size (from)': 'Min', 'Lot Size (to)': 'Max'}, inplace=True)\n",
    "df_sample_plan.loc[df_sample_plan.groupby(['Sampling Plan ID'])['Max'].idxmax(), 'Max'] = 99999999\n",
    "\n",
    "# 简化DataFrame切片操作的函数\n",
    "def get_criteria_df(criteria_df, criteria_type):\n",
    "    return criteria_df[criteria_df['Criteria Type'] == criteria_type][['PIC', 'Sampling Plan ID']]\n",
    "\n",
    "# 函数化重复逻辑\n",
    "def create_sample_size_df(base_df, criteria_df, criteria_name):\n",
    "    merged_df = pd.merge(base_df, criteria_df, on='PIC', how='left')\n",
    "    merged_df[f\"{criteria_name} Sample Size\"] = merged_df.apply(lambda row: get_sample_size(row, df_sample_plan), axis=1)\n",
    "    return merged_df.sort_values(by=f\"{criteria_name} Sample Size\", ascending=False).drop_duplicates('key')[['key', f\"{criteria_name} Sample Size\"]]\n",
    "\n",
    "def get_sample_size(row, df_sample_plan):\n",
    "    sample_sizes = df_sample_plan[(df_sample_plan['Sampling Plan ID'] == row['Sampling Plan ID']) & \n",
    "                                  (df_sample_plan['Min'] <= row['Qty EA']) & \n",
    "                                  (df_sample_plan['Max'] >= row['Qty EA'])]['Sample Size']\n",
    "    return sample_sizes.max() if sample_sizes.notna().any() else None\n",
    "\n",
    "# 处理基础DataFrame\n",
    "df_base = (\n",
    "    df\n",
    "    .assign(Inspection_Date=lambda d: pd.to_datetime(d['Inspection Date']))\n",
    "    .assign(key=lambda d: d.apply(lambda s: f\"{s['Lot Number']}|{s['Inspection Date'].date()}|{s['Inspector']}|{s['Item Number']}\" \n",
    "                                   if s['Path'] != 'QIM' \n",
    "                                   else s['ID'], axis=1))\n",
    "    .query('PIC != \"Missing in ETQ\"')\n",
    "    .groupby(['key', 'PIC'], as_index=False)['Qty EA'].sum()\n",
    ")\n",
    "\n",
    "# 直接构建dfs_by_type，避免使用eval或locals\n",
    "criteria_types = ['Functional', 'Dimensional', 'Visual']\n",
    "dfs_by_type = {\n",
    "    f\"normal_{criteria}\": get_criteria_df(df_normal, criteria) \n",
    "    for criteria in criteria_types\n",
    "}\n",
    "dfs_by_type.update({\n",
    "    f\"reduce_{criteria}\": get_criteria_df(df_reduce, criteria) \n",
    "    for criteria in criteria_types\n",
    "})\n",
    "\n",
    "# 使用函数创建每个类型的样本大小DataFrame\n",
    "sample_size_dfs = [create_sample_size_df(df_base, dfs_by_type[key], key) for key in dfs_by_type.keys()]\n",
    "\n",
    "# 合并所有样本大小DataFrame\n",
    "final_df = reduce(lambda left, right: pd.merge(left, right, on='key', how='left'), [df_base] + sample_size_dfs)\n"
   ]
  },
  {
   "cell_type": "code",
   "execution_count": 148,
   "metadata": {},
   "outputs": [],
   "source": [
    "df_gy = (\n",
    "    final_df.groupby('PIC',as_index=False)[[\n",
    "        'normal_Functional Sample Size', 'normal_Dimensional Sample Size', 'normal_Visual Sample Size',\n",
    "        'reduce_Functional Sample Size', 'reduce_Dimensional Sample Size', 'reduce_Visual Sample Size'\n",
    "    ]]\n",
    "    .sum()\n",
    "    .rename(columns=lambda x: x.replace(' Sample Size', ''))\n",
    ")"
   ]
  },
  {
   "cell_type": "code",
   "execution_count": 145,
   "metadata": {},
   "outputs": [
    {
     "data": {
      "text/html": [
       "<div>\n",
       "<style scoped>\n",
       "    .dataframe tbody tr th:only-of-type {\n",
       "        vertical-align: middle;\n",
       "    }\n",
       "\n",
       "    .dataframe tbody tr th {\n",
       "        vertical-align: top;\n",
       "    }\n",
       "\n",
       "    .dataframe thead th {\n",
       "        text-align: right;\n",
       "    }\n",
       "</style>\n",
       "<table border=\"1\" class=\"dataframe\">\n",
       "  <thead>\n",
       "    <tr style=\"text-align: right;\">\n",
       "      <th></th>\n",
       "      <th>PIC</th>\n",
       "      <th>normal_Functional</th>\n",
       "      <th>normal_Dimensional</th>\n",
       "      <th>normal_Visual</th>\n",
       "      <th>reduce_Functional</th>\n",
       "      <th>reduce_Dimensional</th>\n",
       "      <th>reduce_Visual</th>\n",
       "      <th>Functional_decreasing_qty</th>\n",
       "      <th>Dimensional_decreasing_qty</th>\n",
       "      <th>Visual_decreasing_qty</th>\n",
       "      <th>Functional_decreasing_per</th>\n",
       "      <th>Dimensional_decreasing_per</th>\n",
       "      <th>Visual_decreasing_per</th>\n",
       "    </tr>\n",
       "  </thead>\n",
       "  <tbody>\n",
       "    <tr>\n",
       "      <th>0</th>\n",
       "      <td>PIC-00001</td>\n",
       "      <td>2119.0</td>\n",
       "      <td>0.0</td>\n",
       "      <td>19910.0</td>\n",
       "      <td>815.0</td>\n",
       "      <td>0.0</td>\n",
       "      <td>7961.0</td>\n",
       "      <td>1304.0</td>\n",
       "      <td>0.0</td>\n",
       "      <td>11949.0</td>\n",
       "      <td>-0.615385</td>\n",
       "      <td>-0.615385</td>\n",
       "      <td>-0.615385</td>\n",
       "    </tr>\n",
       "    <tr>\n",
       "      <th>1</th>\n",
       "      <td>PIC-00002</td>\n",
       "      <td>39.0</td>\n",
       "      <td>39.0</td>\n",
       "      <td>240.0</td>\n",
       "      <td>15.0</td>\n",
       "      <td>15.0</td>\n",
       "      <td>96.0</td>\n",
       "      <td>24.0</td>\n",
       "      <td>24.0</td>\n",
       "      <td>144.0</td>\n",
       "      <td>-0.615385</td>\n",
       "      <td>-0.615385</td>\n",
       "      <td>-0.615385</td>\n",
       "    </tr>\n",
       "    <tr>\n",
       "      <th>2</th>\n",
       "      <td>PIC-00004</td>\n",
       "      <td>65.0</td>\n",
       "      <td>0.0</td>\n",
       "      <td>490.0</td>\n",
       "      <td>25.0</td>\n",
       "      <td>0.0</td>\n",
       "      <td>196.0</td>\n",
       "      <td>40.0</td>\n",
       "      <td>0.0</td>\n",
       "      <td>294.0</td>\n",
       "      <td>-0.615385</td>\n",
       "      <td>-0.615385</td>\n",
       "      <td>-0.615385</td>\n",
       "    </tr>\n",
       "    <tr>\n",
       "      <th>3</th>\n",
       "      <td>PIC-00005</td>\n",
       "      <td>16180.0</td>\n",
       "      <td>0.0</td>\n",
       "      <td>16270.0</td>\n",
       "      <td>6459.0</td>\n",
       "      <td>0.0</td>\n",
       "      <td>6495.0</td>\n",
       "      <td>9721.0</td>\n",
       "      <td>0.0</td>\n",
       "      <td>9775.0</td>\n",
       "      <td>-0.600803</td>\n",
       "      <td>-0.600803</td>\n",
       "      <td>-0.600803</td>\n",
       "    </tr>\n",
       "    <tr>\n",
       "      <th>4</th>\n",
       "      <td>PIC-00013</td>\n",
       "      <td>0.0</td>\n",
       "      <td>0.0</td>\n",
       "      <td>100.0</td>\n",
       "      <td>0.0</td>\n",
       "      <td>0.0</td>\n",
       "      <td>40.0</td>\n",
       "      <td>0.0</td>\n",
       "      <td>0.0</td>\n",
       "      <td>60.0</td>\n",
       "      <td>0.000000</td>\n",
       "      <td>0.000000</td>\n",
       "      <td>0.000000</td>\n",
       "    </tr>\n",
       "    <tr>\n",
       "      <th>...</th>\n",
       "      <td>...</td>\n",
       "      <td>...</td>\n",
       "      <td>...</td>\n",
       "      <td>...</td>\n",
       "      <td>...</td>\n",
       "      <td>...</td>\n",
       "      <td>...</td>\n",
       "      <td>...</td>\n",
       "      <td>...</td>\n",
       "      <td>...</td>\n",
       "      <td>...</td>\n",
       "      <td>...</td>\n",
       "      <td>...</td>\n",
       "    </tr>\n",
       "    <tr>\n",
       "      <th>169</th>\n",
       "      <td>Qual-96703</td>\n",
       "      <td>0.0</td>\n",
       "      <td>0.0</td>\n",
       "      <td>0.0</td>\n",
       "      <td>0.0</td>\n",
       "      <td>0.0</td>\n",
       "      <td>0.0</td>\n",
       "      <td>0.0</td>\n",
       "      <td>0.0</td>\n",
       "      <td>0.0</td>\n",
       "      <td>0.000000</td>\n",
       "      <td>0.000000</td>\n",
       "      <td>0.000000</td>\n",
       "    </tr>\n",
       "    <tr>\n",
       "      <th>170</th>\n",
       "      <td>Qual-98465</td>\n",
       "      <td>0.0</td>\n",
       "      <td>0.0</td>\n",
       "      <td>0.0</td>\n",
       "      <td>0.0</td>\n",
       "      <td>0.0</td>\n",
       "      <td>0.0</td>\n",
       "      <td>0.0</td>\n",
       "      <td>0.0</td>\n",
       "      <td>0.0</td>\n",
       "      <td>0.000000</td>\n",
       "      <td>0.000000</td>\n",
       "      <td>0.000000</td>\n",
       "    </tr>\n",
       "    <tr>\n",
       "      <th>171</th>\n",
       "      <td>Qual-98611</td>\n",
       "      <td>0.0</td>\n",
       "      <td>5.0</td>\n",
       "      <td>370.0</td>\n",
       "      <td>0.0</td>\n",
       "      <td>5.0</td>\n",
       "      <td>148.0</td>\n",
       "      <td>0.0</td>\n",
       "      <td>0.0</td>\n",
       "      <td>222.0</td>\n",
       "      <td>0.000000</td>\n",
       "      <td>0.000000</td>\n",
       "      <td>0.000000</td>\n",
       "    </tr>\n",
       "    <tr>\n",
       "      <th>172</th>\n",
       "      <td>Qual-99085</td>\n",
       "      <td>0.0</td>\n",
       "      <td>0.0</td>\n",
       "      <td>0.0</td>\n",
       "      <td>0.0</td>\n",
       "      <td>0.0</td>\n",
       "      <td>0.0</td>\n",
       "      <td>0.0</td>\n",
       "      <td>0.0</td>\n",
       "      <td>0.0</td>\n",
       "      <td>0.000000</td>\n",
       "      <td>0.000000</td>\n",
       "      <td>0.000000</td>\n",
       "    </tr>\n",
       "    <tr>\n",
       "      <th>173</th>\n",
       "      <td>Qual-99963</td>\n",
       "      <td>0.0</td>\n",
       "      <td>7.0</td>\n",
       "      <td>875.0</td>\n",
       "      <td>0.0</td>\n",
       "      <td>7.0</td>\n",
       "      <td>350.0</td>\n",
       "      <td>0.0</td>\n",
       "      <td>0.0</td>\n",
       "      <td>525.0</td>\n",
       "      <td>0.000000</td>\n",
       "      <td>0.000000</td>\n",
       "      <td>0.000000</td>\n",
       "    </tr>\n",
       "  </tbody>\n",
       "</table>\n",
       "<p>174 rows × 13 columns</p>\n",
       "</div>"
      ],
      "text/plain": [
       "            PIC  normal_Functional  normal_Dimensional  normal_Visual  \\\n",
       "0     PIC-00001             2119.0                 0.0        19910.0   \n",
       "1     PIC-00002               39.0                39.0          240.0   \n",
       "2     PIC-00004               65.0                 0.0          490.0   \n",
       "3     PIC-00005            16180.0                 0.0        16270.0   \n",
       "4     PIC-00013                0.0                 0.0          100.0   \n",
       "..          ...                ...                 ...            ...   \n",
       "169  Qual-96703                0.0                 0.0            0.0   \n",
       "170  Qual-98465                0.0                 0.0            0.0   \n",
       "171  Qual-98611                0.0                 5.0          370.0   \n",
       "172  Qual-99085                0.0                 0.0            0.0   \n",
       "173  Qual-99963                0.0                 7.0          875.0   \n",
       "\n",
       "     reduce_Functional  reduce_Dimensional  reduce_Visual  \\\n",
       "0                815.0                 0.0         7961.0   \n",
       "1                 15.0                15.0           96.0   \n",
       "2                 25.0                 0.0          196.0   \n",
       "3               6459.0                 0.0         6495.0   \n",
       "4                  0.0                 0.0           40.0   \n",
       "..                 ...                 ...            ...   \n",
       "169                0.0                 0.0            0.0   \n",
       "170                0.0                 0.0            0.0   \n",
       "171                0.0                 5.0          148.0   \n",
       "172                0.0                 0.0            0.0   \n",
       "173                0.0                 7.0          350.0   \n",
       "\n",
       "     Functional_decreasing_qty  Dimensional_decreasing_qty  \\\n",
       "0                       1304.0                         0.0   \n",
       "1                         24.0                        24.0   \n",
       "2                         40.0                         0.0   \n",
       "3                       9721.0                         0.0   \n",
       "4                          0.0                         0.0   \n",
       "..                         ...                         ...   \n",
       "169                        0.0                         0.0   \n",
       "170                        0.0                         0.0   \n",
       "171                        0.0                         0.0   \n",
       "172                        0.0                         0.0   \n",
       "173                        0.0                         0.0   \n",
       "\n",
       "     Visual_decreasing_qty  Functional_decreasing_per  \\\n",
       "0                  11949.0                  -0.615385   \n",
       "1                    144.0                  -0.615385   \n",
       "2                    294.0                  -0.615385   \n",
       "3                   9775.0                  -0.600803   \n",
       "4                     60.0                   0.000000   \n",
       "..                     ...                        ...   \n",
       "169                    0.0                   0.000000   \n",
       "170                    0.0                   0.000000   \n",
       "171                  222.0                   0.000000   \n",
       "172                    0.0                   0.000000   \n",
       "173                  525.0                   0.000000   \n",
       "\n",
       "     Dimensional_decreasing_per  Visual_decreasing_per  \n",
       "0                     -0.615385              -0.615385  \n",
       "1                     -0.615385              -0.615385  \n",
       "2                     -0.615385              -0.615385  \n",
       "3                     -0.600803              -0.600803  \n",
       "4                      0.000000               0.000000  \n",
       "..                          ...                    ...  \n",
       "169                    0.000000               0.000000  \n",
       "170                    0.000000               0.000000  \n",
       "171                    0.000000               0.000000  \n",
       "172                    0.000000               0.000000  \n",
       "173                    0.000000               0.000000  \n",
       "\n",
       "[174 rows x 13 columns]"
      ]
     },
     "execution_count": 145,
     "metadata": {},
     "output_type": "execute_result"
    }
   ],
   "source": [
    "(\n",
    "    df_gy\n",
    "    .assign(Functional_decreasing_qty = lambda d : d.normal_Functional - d.reduce_Functional,\n",
    "            Dimensional_decreasing_qty = lambda d : d.normal_Dimensional - d.reduce_Dimensional,\n",
    "            Visual_decreasing_qty = lambda d : d.normal_Visual - d.reduce_Visual,\n",
    "            Functional_decreasing_per = lambda d : d.reduce_Functional / d.normal_Functional - 1,\n",
    "            Dimensional_decreasing_per = lambda d : d.reduce_Dimensional /  d.normal_Dimensional - 1,\n",
    "            Visual_decreasing_per = lambda d : d.reduce_Visual / d.normal_Visual - 1\n",
    "            )\n",
    "    .fillna(0)\n",
    ").to_excel('final.xlsx')"
   ]
  },
  {
   "cell_type": "code",
   "execution_count": null,
   "metadata": {},
   "outputs": [],
   "source": []
  }
 ],
 "metadata": {
  "kernelspec": {
   "display_name": "Python 3",
   "language": "python",
   "name": "python3"
  },
  "language_info": {
   "codemirror_mode": {
    "name": "ipython",
    "version": 3
   },
   "file_extension": ".py",
   "mimetype": "text/x-python",
   "name": "python",
   "nbconvert_exporter": "python",
   "pygments_lexer": "ipython3",
   "version": "3.8.0"
  }
 },
 "nbformat": 4,
 "nbformat_minor": 2
}
