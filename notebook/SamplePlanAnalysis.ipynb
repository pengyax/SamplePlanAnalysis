{
 "cells": [
  {
   "cell_type": "code",
   "execution_count": 142,
   "metadata": {},
   "outputs": [],
   "source": [
    "import pandas as pd"
   ]
  },
  {
   "cell_type": "code",
   "execution_count": 143,
   "metadata": {},
   "outputs": [],
   "source": [
    "df = pd.read_excel('../data_input/datasource.xlsx',sheet_name=0)"
   ]
  },
  {
   "cell_type": "code",
   "execution_count": 144,
   "metadata": {},
   "outputs": [],
   "source": [
    "df_sample_plan = pd.read_excel('../data_input/Sampling Plan information.xlsx')"
   ]
  },
  {
   "cell_type": "code",
   "execution_count": 145,
   "metadata": {},
   "outputs": [],
   "source": [
    "df_sample_plan.rename(columns={'Lot Size (from)':'Min','Lot Size (to)':'Max'},inplace=True)"
   ]
  },
  {
   "cell_type": "code",
   "execution_count": 146,
   "metadata": {},
   "outputs": [],
   "source": [
    "df_sample_plan.loc[df_sample_plan.groupby(['Sampling Plan ID'])['Max'].idxmax(), 'Max'] = 99999999"
   ]
  },
  {
   "cell_type": "code",
   "execution_count": 148,
   "metadata": {},
   "outputs": [],
   "source": [
    "df_normal = pd.read_excel('../data_input/datasource.xlsx',sheet_name=1)\n",
    "df_reduce = pd.read_excel('../data_input/datasource.xlsx',sheet_name=2)"
   ]
  },
  {
   "cell_type": "code",
   "execution_count": 149,
   "metadata": {},
   "outputs": [],
   "source": [
    "df_normal_Functional = df_normal.loc[df_normal['Criteria Type'] == 'Functional',['PIC','Sampling Plan ID']]\n",
    "df_normal_Dimensional = df_normal.loc[df_normal['Criteria Type'] == 'Dimensional',['PIC','Sampling Plan ID']]\n",
    "df_normal_Visual = df_normal.loc[df_normal['Criteria Type'] == 'Visual',['PIC','Sampling Plan ID']]"
   ]
  },
  {
   "cell_type": "code",
   "execution_count": 150,
   "metadata": {},
   "outputs": [],
   "source": [
    "df_reduce_Functional = df_reduce.loc[df_reduce['Criteria Type'] == 'Functional',['PIC','Sampling Plan ID']]\n",
    "df_reduce_Dimensional = df_reduce.loc[df_reduce['Criteria Type'] == 'Dimensional',['PIC','Sampling Plan ID']]\n",
    "df_reduce_Visual = df_reduce.loc[df_reduce['Criteria Type'] == 'Visual',['PIC','Sampling Plan ID']]"
   ]
  },
  {
   "cell_type": "code",
   "execution_count": 151,
   "metadata": {},
   "outputs": [
    {
     "data": {
      "text/html": [
       "<div>\n",
       "<style scoped>\n",
       "    .dataframe tbody tr th:only-of-type {\n",
       "        vertical-align: middle;\n",
       "    }\n",
       "\n",
       "    .dataframe tbody tr th {\n",
       "        vertical-align: top;\n",
       "    }\n",
       "\n",
       "    .dataframe thead th {\n",
       "        text-align: right;\n",
       "    }\n",
       "</style>\n",
       "<table border=\"1\" class=\"dataframe\">\n",
       "  <thead>\n",
       "    <tr style=\"text-align: right;\">\n",
       "      <th></th>\n",
       "      <th>PIC</th>\n",
       "      <th>Sampling Plan ID</th>\n",
       "    </tr>\n",
       "  </thead>\n",
       "  <tbody>\n",
       "    <tr>\n",
       "      <th>1</th>\n",
       "      <td>PIC-00001</td>\n",
       "      <td>188</td>\n",
       "    </tr>\n",
       "    <tr>\n",
       "      <th>2</th>\n",
       "      <td>PIC-00001</td>\n",
       "      <td>461</td>\n",
       "    </tr>\n",
       "    <tr>\n",
       "      <th>3</th>\n",
       "      <td>PIC-00001</td>\n",
       "      <td>189</td>\n",
       "    </tr>\n",
       "    <tr>\n",
       "      <th>4</th>\n",
       "      <td>PIC-00001</td>\n",
       "      <td>229</td>\n",
       "    </tr>\n",
       "    <tr>\n",
       "      <th>7</th>\n",
       "      <td>PIC-00002</td>\n",
       "      <td>189</td>\n",
       "    </tr>\n",
       "    <tr>\n",
       "      <th>...</th>\n",
       "      <td>...</td>\n",
       "      <td>...</td>\n",
       "    </tr>\n",
       "    <tr>\n",
       "      <th>653</th>\n",
       "      <td>Qual-99963</td>\n",
       "      <td>229</td>\n",
       "    </tr>\n",
       "    <tr>\n",
       "      <th>654</th>\n",
       "      <td>Qual-99963</td>\n",
       "      <td>241</td>\n",
       "    </tr>\n",
       "    <tr>\n",
       "      <th>655</th>\n",
       "      <td>Qual-99963</td>\n",
       "      <td>539</td>\n",
       "    </tr>\n",
       "    <tr>\n",
       "      <th>656</th>\n",
       "      <td>Qual-99963</td>\n",
       "      <td>267</td>\n",
       "    </tr>\n",
       "    <tr>\n",
       "      <th>657</th>\n",
       "      <td>Qual-99963</td>\n",
       "      <td>547</td>\n",
       "    </tr>\n",
       "  </tbody>\n",
       "</table>\n",
       "<p>457 rows × 2 columns</p>\n",
       "</div>"
      ],
      "text/plain": [
       "            PIC  Sampling Plan ID\n",
       "1     PIC-00001               188\n",
       "2     PIC-00001               461\n",
       "3     PIC-00001               189\n",
       "4     PIC-00001               229\n",
       "7     PIC-00002               189\n",
       "..          ...               ...\n",
       "653  Qual-99963               229\n",
       "654  Qual-99963               241\n",
       "655  Qual-99963               539\n",
       "656  Qual-99963               267\n",
       "657  Qual-99963               547\n",
       "\n",
       "[457 rows x 2 columns]"
      ]
     },
     "execution_count": 151,
     "metadata": {},
     "output_type": "execute_result"
    }
   ],
   "source": [
    "df_reduce_Visual"
   ]
  },
  {
   "cell_type": "code",
   "execution_count": 152,
   "metadata": {},
   "outputs": [],
   "source": [
    "def get_sample_size(row, df):\n",
    "    # 在第三个数据框中查询符合条件的Sample Size\n",
    "    sample_sizes = df[(df['Sampling Plan ID'] == row['Sampling Plan ID']) & \n",
    "                       (df['Min'] <= row['Qty EA']) & \n",
    "                       (df['Max'] >= row['Qty EA'])]['Sample Size']\n",
    "    # 如果找到符合条件的Sample Size，则返回最大值\n",
    "    return sample_sizes.max() if not sample_sizes.empty else None\n"
   ]
  },
  {
   "cell_type": "code",
   "execution_count": 153,
   "metadata": {},
   "outputs": [],
   "source": [
    "df_base = (\n",
    "    df\n",
    ".assign(**{\"Inspection Date\" : lambda d : pd.to_datetime(d['Inspection Date'])})\n",
    ".assign(key=lambda d: d.apply(lambda s:   \n",
    "                            s['ID'] if s['Path'] == 'QIM'   \n",
    "                            else '|'.join([str(s['Lot Number']),   \n",
    "                                           s['Inspection Date'].date().strftime('%Y-%m-%d'),   \n",
    "                                           str(s['Inspector']),   \n",
    "                                           str(s['Item Number'])]),   \n",
    "                          axis=1)\n",
    "        )\n",
    ".query('PIC != \"Missing in ETQ\"')\n",
    ".groupby(['key','PIC'],as_index=False)['Qty EA'].sum()\n",
    ")"
   ]
  },
  {
   "cell_type": "code",
   "execution_count": 154,
   "metadata": {},
   "outputs": [
    {
     "name": "stderr",
     "output_type": "stream",
     "text": [
      "C:\\Users\\ypeng\\AppData\\Local\\Temp\\ipykernel_2616\\2162765692.py:1: FutureWarning: Dropping of nuisance columns in DataFrame reductions (with 'numeric_only=None') is deprecated; in a future version this will raise TypeError.  Select only valid columns before calling the reduction.\n",
      "  df_base.sum()\n"
     ]
    },
    {
     "data": {
      "text/plain": [
       "PIC       PIC-00092PIC-00035PIC-00063PIC-00044PIC-00044P...\n",
       "Qty EA                                         6517335215.0\n",
       "dtype: object"
      ]
     },
     "execution_count": 154,
     "metadata": {},
     "output_type": "execute_result"
    }
   ],
   "source": [
    "df_base.sum()"
   ]
  },
  {
   "cell_type": "code",
   "execution_count": 155,
   "metadata": {},
   "outputs": [
    {
     "name": "stderr",
     "output_type": "stream",
     "text": [
      "C:\\Users\\ypeng\\AppData\\Local\\Temp\\ipykernel_2616\\875044432.py:7: FutureWarning: Dropping of nuisance columns in DataFrame reductions (with 'numeric_only=None') is deprecated; in a future version this will raise TypeError.  Select only valid columns before calling the reduction.\n",
      "  df_sample_size_normal_Functional.sum()\n"
     ]
    },
    {
     "data": {
      "text/plain": [
       "PIC                 PIC-00035PIC-00035PIC-00035PIC-00035PIC-00035P...\n",
       "Qty EA                                                   6517335215.0\n",
       "Sampling Plan ID                                            1584147.0\n",
       "Sample Size                                                  202089.0\n",
       "dtype: object"
      ]
     },
     "execution_count": 155,
     "metadata": {},
     "output_type": "execute_result"
    }
   ],
   "source": [
    "df_sample_size_normal_Functional = (\n",
    "    df_base\n",
    "    .pipe(lambda d : pd.merge(d,df_normal_Functional,on='PIC',how='left'))\n",
    "    .assign(**{\"Sample Size\" : lambda d : d.apply(get_sample_size, axis=1, df=df_sample_plan)})\n",
    "    .sort_values('Sample Size', ascending=False).drop_duplicates('key')\n",
    ")\n",
    "df_sample_size_normal_Functional.sum()"
   ]
  },
  {
   "cell_type": "code",
   "execution_count": 156,
   "metadata": {},
   "outputs": [
    {
     "name": "stderr",
     "output_type": "stream",
     "text": [
      "C:\\Users\\ypeng\\AppData\\Local\\Temp\\ipykernel_2616\\3591223376.py:7: FutureWarning: Dropping of nuisance columns in DataFrame reductions (with 'numeric_only=None') is deprecated; in a future version this will raise TypeError.  Select only valid columns before calling the reduction.\n",
      "  df_sample_size_normal_Dimensional.sum()\n"
     ]
    },
    {
     "data": {
      "text/plain": [
       "PIC                 PIC-00418PIC-00418PIC-00418PIC-00418PIC-00418P...\n",
       "Qty EA                                                   6517335215.0\n",
       "Sampling Plan ID                                            1440642.0\n",
       "Sample Size                                                  235002.0\n",
       "dtype: object"
      ]
     },
     "execution_count": 156,
     "metadata": {},
     "output_type": "execute_result"
    }
   ],
   "source": [
    "df_sample_size_normal_Dimensional = (\n",
    "    df_base\n",
    "    .pipe(lambda d : pd.merge(d,df_normal_Dimensional,on='PIC',how='left'))\n",
    "    .assign(**{\"Sample Size\" : lambda d : d.apply(get_sample_size, axis=1, df=df_sample_plan)})\n",
    "    .sort_values('Sample Size', ascending=False).drop_duplicates('key')\n",
    ")\n",
    "df_sample_size_normal_Dimensional.sum()"
   ]
  },
  {
   "cell_type": "code",
   "execution_count": 157,
   "metadata": {},
   "outputs": [
    {
     "name": "stderr",
     "output_type": "stream",
     "text": [
      "C:\\Users\\ypeng\\AppData\\Local\\Temp\\ipykernel_2616\\148947359.py:7: FutureWarning: Dropping of nuisance columns in DataFrame reductions (with 'numeric_only=None') is deprecated; in a future version this will raise TypeError.  Select only valid columns before calling the reduction.\n",
      "  df_sample_size_normal_Visual.sum()\n"
     ]
    },
    {
     "data": {
      "text/plain": [
       "PIC                 PIC-00058PIC-00058PIC-00058PIC-00058PIC-00058P...\n",
       "Qty EA                                                   6517335215.0\n",
       "Sampling Plan ID                                            1786566.0\n",
       "Sample Size                                                 1903730.0\n",
       "dtype: object"
      ]
     },
     "execution_count": 157,
     "metadata": {},
     "output_type": "execute_result"
    }
   ],
   "source": [
    "df_sample_size_normal_Visual = (\n",
    "    df_base\n",
    "    .pipe(lambda d : pd.merge(d,df_normal_Visual,on='PIC',how='left'))\n",
    "    .assign(**{\"Sample Size\" : lambda d : d.apply(get_sample_size, axis=1, df=df_sample_plan)})\n",
    "    .sort_values('Sample Size', ascending=False).drop_duplicates('key')\n",
    ")\n",
    "df_sample_size_normal_Visual.sum()"
   ]
  },
  {
   "cell_type": "code",
   "execution_count": null,
   "metadata": {},
   "outputs": [],
   "source": [
    "df_sample_size_reduce_Functional = (\n",
    "    df_base\n",
    "    .pipe(lambda d : pd.merge(d,df_reduce_Functional,on='PIC',how='left'))\n",
    "    .assign(**{\"Sample Size\" : lambda d : d.apply(get_sample_size, axis=1, df=df_sample_plan)})\n",
    "    .sort_values('Sample Size', ascending=False).drop_duplicates('key')\n",
    ")\n",
    "df_sample_size_reduce_Functional.sum()"
   ]
  },
  {
   "cell_type": "code",
   "execution_count": null,
   "metadata": {},
   "outputs": [],
   "source": [
    "df_sample_size_reduce_Dimensional = (\n",
    "    df_base\n",
    "    .pipe(lambda d : pd.merge(d,df_reduce_Dimensional,on='PIC',how='left'))\n",
    "    .assign(**{\"Sample Size\" : lambda d : d.apply(get_sample_size, axis=1, df=df_sample_plan)})\n",
    "    .sort_values('Sample Size', ascending=False).drop_duplicates('key')\n",
    ")\n",
    "df_sample_size_reduce_Dimensional.sum()"
   ]
  },
  {
   "cell_type": "code",
   "execution_count": null,
   "metadata": {},
   "outputs": [],
   "source": [
    "df_sample_size_reduce_Visual = (\n",
    "    df_base\n",
    "    .pipe(lambda d : pd.merge(d,df_reduce_Visual,on='PIC',how='left'))\n",
    "    .assign(**{\"Sample Size\" : lambda d : d.apply(get_sample_size, axis=1, df=df_sample_plan)})\n",
    "    .sort_values('Sample Size', ascending=False).drop_duplicates('key')\n",
    ")\n",
    "df_sample_size_reduce_Visual.sum()"
   ]
  },
  {
   "cell_type": "code",
   "execution_count": null,
   "metadata": {},
   "outputs": [],
   "source": []
  },
  {
   "cell_type": "code",
   "execution_count": null,
   "metadata": {},
   "outputs": [],
   "source": []
  }
 ],
 "metadata": {
  "kernelspec": {
   "display_name": "Python 3",
   "language": "python",
   "name": "python3"
  },
  "language_info": {
   "codemirror_mode": {
    "name": "ipython",
    "version": 3
   },
   "file_extension": ".py",
   "mimetype": "text/x-python",
   "name": "python",
   "nbconvert_exporter": "python",
   "pygments_lexer": "ipython3",
   "version": "3.8.0"
  }
 },
 "nbformat": 4,
 "nbformat_minor": 2
}
